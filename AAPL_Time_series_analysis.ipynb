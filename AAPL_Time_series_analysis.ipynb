{
 "cells": [
  {
   "cell_type": "code",
   "execution_count": 6,
   "id": "a3d44d75",
   "metadata": {},
   "outputs": [
    {
     "name": "stdout",
     "output_type": "stream",
     "text": [
      "Collecting pandas_datareader\n",
      "  Downloading pandas_datareader-0.10.0-py3-none-any.whl (109 kB)\n",
      "Requirement already satisfied: lxml in c:\\users\\ayub\\anaconda34\\lib\\site-packages (from pandas_datareader) (4.6.3)\n",
      "Requirement already satisfied: requests>=2.19.0 in c:\\users\\ayub\\anaconda34\\lib\\site-packages (from pandas_datareader) (2.26.0)\n",
      "Requirement already satisfied: pandas>=0.23 in c:\\users\\ayub\\anaconda34\\lib\\site-packages (from pandas_datareader) (1.3.4)\n",
      "Requirement already satisfied: pytz>=2017.3 in c:\\users\\ayub\\anaconda34\\lib\\site-packages (from pandas>=0.23->pandas_datareader) (2021.3)\n",
      "Requirement already satisfied: numpy>=1.17.3 in c:\\users\\ayub\\anaconda34\\lib\\site-packages (from pandas>=0.23->pandas_datareader) (1.20.3)\n",
      "Requirement already satisfied: python-dateutil>=2.7.3 in c:\\users\\ayub\\anaconda34\\lib\\site-packages (from pandas>=0.23->pandas_datareader) (2.8.2)\n",
      "Requirement already satisfied: six>=1.5 in c:\\users\\ayub\\anaconda34\\lib\\site-packages (from python-dateutil>=2.7.3->pandas>=0.23->pandas_datareader) (1.16.0)\n",
      "Requirement already satisfied: charset-normalizer~=2.0.0 in c:\\users\\ayub\\anaconda34\\lib\\site-packages (from requests>=2.19.0->pandas_datareader) (2.0.4)\n",
      "Requirement already satisfied: urllib3<1.27,>=1.21.1 in c:\\users\\ayub\\anaconda34\\lib\\site-packages (from requests>=2.19.0->pandas_datareader) (1.26.7)\n",
      "Requirement already satisfied: idna<4,>=2.5 in c:\\users\\ayub\\anaconda34\\lib\\site-packages (from requests>=2.19.0->pandas_datareader) (3.2)\n",
      "Requirement already satisfied: certifi>=2017.4.17 in c:\\users\\ayub\\anaconda34\\lib\\site-packages (from requests>=2.19.0->pandas_datareader) (2021.10.8)\n",
      "Installing collected packages: pandas-datareader\n",
      "Successfully installed pandas-datareader-0.10.0\n",
      "Note: you may need to restart the kernel to use updated packages.\n"
     ]
    }
   ],
   "source": [
    "pip install pandas_datareader"
   ]
  },
  {
   "cell_type": "code",
   "execution_count": 6,
   "id": "3225ad45",
   "metadata": {},
   "outputs": [],
   "source": [
    "import pandas as pd\n",
    "import pandas_datareader as pdr"
   ]
  },
  {
   "cell_type": "code",
   "execution_count": 63,
   "id": "62cee976",
   "metadata": {},
   "outputs": [
    {
     "name": "stdout",
     "output_type": "stream",
     "text": [
      "Requirement already satisfied: numpy in c:\\users\\ayub\\anaconda34\\lib\\site-packages (1.20.3)Note: you may need to restart the kernel to use updated packages.\n",
      "\n"
     ]
    }
   ],
   "source": [
    "pip install numpy"
   ]
  },
  {
   "cell_type": "code",
   "execution_count": 61,
   "id": "42dc6e9a",
   "metadata": {},
   "outputs": [
    {
     "name": "stdout",
     "output_type": "stream",
     "text": [
      "Collecting plotly\n",
      "  Downloading plotly-5.10.0-py2.py3-none-any.whl (15.2 MB)\n",
      "Collecting tenacity>=6.2.0\n",
      "  Downloading tenacity-8.1.0-py3-none-any.whl (23 kB)\n",
      "Installing collected packages: tenacity, plotly\n",
      "Successfully installed plotly-5.10.0 tenacity-8.1.0\n",
      "Note: you may need to restart the kernel to use updated packages.\n"
     ]
    }
   ],
   "source": [
    "pip install plotly"
   ]
  },
  {
   "cell_type": "code",
   "execution_count": 66,
   "id": "b88707b3",
   "metadata": {},
   "outputs": [
    {
     "name": "stdout",
     "output_type": "stream",
     "text": [
      "Collecting chart-studio\n",
      "  Downloading chart_studio-1.1.0-py3-none-any.whl (64 kB)\n",
      "Collecting retrying>=1.3.3\n",
      "  Downloading retrying-1.3.3.tar.gz (10 kB)\n",
      "Requirement already satisfied: plotly in c:\\users\\ayub\\anaconda34\\lib\\site-packages (from chart-studio) (5.10.0)\n",
      "Requirement already satisfied: six in c:\\users\\ayub\\anaconda34\\lib\\site-packages (from chart-studio) (1.16.0)\n",
      "Requirement already satisfied: requests in c:\\users\\ayub\\anaconda34\\lib\\site-packages (from chart-studio) (2.26.0)\n",
      "Requirement already satisfied: tenacity>=6.2.0 in c:\\users\\ayub\\anaconda34\\lib\\site-packages (from plotly->chart-studio) (8.1.0)\n",
      "Requirement already satisfied: certifi>=2017.4.17 in c:\\users\\ayub\\anaconda34\\lib\\site-packages (from requests->chart-studio) (2021.10.8)\n",
      "Requirement already satisfied: urllib3<1.27,>=1.21.1 in c:\\users\\ayub\\anaconda34\\lib\\site-packages (from requests->chart-studio) (1.26.7)\n",
      "Requirement already satisfied: idna<4,>=2.5 in c:\\users\\ayub\\anaconda34\\lib\\site-packages (from requests->chart-studio) (3.2)\n",
      "Requirement already satisfied: charset-normalizer~=2.0.0 in c:\\users\\ayub\\anaconda34\\lib\\site-packages (from requests->chart-studio) (2.0.4)\n",
      "Building wheels for collected packages: retrying\n",
      "  Building wheel for retrying (setup.py): started\n",
      "  Building wheel for retrying (setup.py): finished with status 'done'\n",
      "  Created wheel for retrying: filename=retrying-1.3.3-py3-none-any.whl size=11448 sha256=a0c69e5397da7d699e60e58eb7e84938e138f6b29535152286ee2b3beaf345aa\n",
      "  Stored in directory: c:\\users\\ayub\\appdata\\local\\pip\\cache\\wheels\\ce\\18\\7f\\e9527e3e66db1456194ac7f61eb3211068c409edceecff2d31\n",
      "Successfully built retrying\n",
      "Installing collected packages: retrying, chart-studio\n",
      "Successfully installed chart-studio-1.1.0 retrying-1.3.3\n",
      "Note: you may need to restart the kernel to use updated packages.\n"
     ]
    }
   ],
   "source": [
    "pip install chart-studio"
   ]
  },
  {
   "cell_type": "code",
   "execution_count": 68,
   "id": "05be72be",
   "metadata": {},
   "outputs": [],
   "source": [
    "from chart_studio import plotly  "
   ]
  },
  {
   "cell_type": "code",
   "execution_count": 71,
   "id": "127c4ebb",
   "metadata": {},
   "outputs": [
    {
     "data": {
      "text/html": [
       "        <script type=\"text/javascript\">\n",
       "        window.PlotlyConfig = {MathJaxConfig: 'local'};\n",
       "        if (window.MathJax && window.MathJax.Hub && window.MathJax.Hub.Config) {window.MathJax.Hub.Config({SVG: {font: \"STIX-Web\"}});}\n",
       "        if (typeof require !== 'undefined') {\n",
       "        require.undef(\"plotly\");\n",
       "        requirejs.config({\n",
       "            paths: {\n",
       "                'plotly': ['https://cdn.plot.ly/plotly-2.14.0.min']\n",
       "            }\n",
       "        });\n",
       "        require(['plotly'], function(Plotly) {\n",
       "            window._Plotly = Plotly;\n",
       "        });\n",
       "        }\n",
       "        </script>\n",
       "        "
      ]
     },
     "metadata": {},
     "output_type": "display_data"
    }
   ],
   "source": [
    "# Importing libraries\n",
    "import os\n",
    "import warnings\n",
    "warnings.filterwarnings('ignore')\n",
    "import numpy as np \n",
    "import matplotlib.pyplot as plt\n",
    "plt.style.use('fivethirtyeight') \n",
    "# Above is a special style template for matplotlib, highly useful for visualizing time series data\n",
    "%matplotlib inline\n",
    "from pylab import rcParams\n",
    "from plotly import tools\n",
    "from plotly.offline import init_notebook_mode, iplot\n",
    "init_notebook_mode(connected=True)\n",
    "import plotly.graph_objs as go\n",
    "import plotly.figure_factory as ff\n",
    "import statsmodels.api as sm\n",
    "from numpy.random import normal, seed\n",
    "from scipy.stats import norm\n",
    "from statsmodels.tsa.arima_model import ARMA\n",
    "from statsmodels.tsa.stattools import adfuller\n",
    "from statsmodels.graphics.tsaplots import plot_acf, plot_pacf\n",
    "from statsmodels.tsa.arima_process import ArmaProcess\n",
    "from statsmodels.tsa.arima_model import ARIMA\n",
    "import math\n",
    "from sklearn.metrics import mean_squared_error"
   ]
  },
  {
   "cell_type": "code",
   "execution_count": 72,
   "id": "fd28155c",
   "metadata": {},
   "outputs": [],
   "source": [
    "from chart_studio import plotly"
   ]
  },
  {
   "cell_type": "code",
   "execution_count": 7,
   "id": "a9f2c3d1",
   "metadata": {},
   "outputs": [],
   "source": [
    "import datetime"
   ]
  },
  {
   "cell_type": "code",
   "execution_count": 8,
   "id": "49a4748d",
   "metadata": {},
   "outputs": [],
   "source": [
    "import seaborn as sns"
   ]
  },
  {
   "cell_type": "code",
   "execution_count": 17,
   "id": "85682c08",
   "metadata": {},
   "outputs": [],
   "source": [
    "start = datetime.datetime(2010, 1, 1)\n",
    "end = datetime.datetime(2020, 1, 1)\n",
    "start_date_str = str(start.date())\n",
    "end_date_str = str(end.date())"
   ]
  },
  {
   "cell_type": "code",
   "execution_count": 18,
   "id": "430c2e07",
   "metadata": {},
   "outputs": [],
   "source": [
    "stocks = ['AAPL']"
   ]
  },
  {
   "cell_type": "code",
   "execution_count": 19,
   "id": "e39fe554",
   "metadata": {},
   "outputs": [
    {
     "name": "stdout",
     "output_type": "stream",
     "text": [
      "data/_2010-01-01_to_2020-01-01.csv\n",
      "(2516, 6)\n"
     ]
    }
   ],
   "source": [
    "for ticker in stocks:\n",
    "    file_name = 'data/' + '_' + start_date_str + '_to_' + end_date_str + '.csv'\n",
    "    print(file_name)\n",
    "    data = pdr.DataReader(ticker, 'yahoo', start, end)\n",
    "    print(data.shape)\n",
    "    data.to_csv(file_name)"
   ]
  },
  {
   "cell_type": "code",
   "execution_count": 23,
   "id": "f519b41e",
   "metadata": {},
   "outputs": [
    {
     "name": "stdout",
     "output_type": "stream",
     "text": [
      "data/AAPL_2010-01-01_to_2020-01-01.csv\n",
      "(2516, 7)\n",
      "(2516, 8)\n"
     ]
    }
   ],
   "source": [
    "for (i, ticker) in enumerate(stocks):\n",
    "    file_name = 'data/' + ticker + '_' + start_date_str + '_to_' + end_date_str + '.csv'\n",
    "    print(file_name)\n",
    "    data = pd.read_csv('data/_2010-01-01_to_2020-01-01.csv')\n",
    "    print(data.shape)\n",
    "    data['Name'] = ticker\n",
    "    data.to_csv(file_name)\n",
    "    \n",
    "    if i == 0:\n",
    "        all_stocks = data\n",
    "    else:\n",
    "        all_stocks = all_stocks.append(data)\n",
    "        \n",
    "print(all_stocks.shape)\n",
    "all_stocks_file_name = 'data/_2010-01-01_to_2020-01-01.csv'\n",
    "all_stocks.to_csv(all_stocks_file_name)"
   ]
  },
  {
   "cell_type": "code",
   "execution_count": 24,
   "id": "dc17fc86",
   "metadata": {},
   "outputs": [],
   "source": [
    "all_stocks = pd.read_csv('data/_2010-01-01_to_2020-01-01.csv')"
   ]
  },
  {
   "cell_type": "code",
   "execution_count": 30,
   "id": "2e9d880a",
   "metadata": {},
   "outputs": [],
   "source": [
    "all_stocks_2010 = all_stocks.loc[2010]"
   ]
  },
  {
   "cell_type": "code",
   "execution_count": 31,
   "id": "374c3f07",
   "metadata": {},
   "outputs": [
    {
     "data": {
      "text/plain": [
       "Unnamed: 0          2010\n",
       "Date          2017-12-27\n",
       "High              42.695\n",
       "Low            42.427502\n",
       "Open           42.525002\n",
       "Close          42.650002\n",
       "Volume        85992800.0\n",
       "Adj Close       40.62315\n",
       "Name                AAPL\n",
       "Name: 2010, dtype: object"
      ]
     },
     "execution_count": 31,
     "metadata": {},
     "output_type": "execute_result"
    }
   ],
   "source": [
    "all_stocks_2010"
   ]
  },
  {
   "cell_type": "code",
   "execution_count": 32,
   "id": "f27c6c32",
   "metadata": {},
   "outputs": [
    {
     "data": {
      "text/html": [
       "<div>\n",
       "<style scoped>\n",
       "    .dataframe tbody tr th:only-of-type {\n",
       "        vertical-align: middle;\n",
       "    }\n",
       "\n",
       "    .dataframe tbody tr th {\n",
       "        vertical-align: top;\n",
       "    }\n",
       "\n",
       "    .dataframe thead th {\n",
       "        text-align: right;\n",
       "    }\n",
       "</style>\n",
       "<table border=\"1\" class=\"dataframe\">\n",
       "  <thead>\n",
       "    <tr style=\"text-align: right;\">\n",
       "      <th></th>\n",
       "      <th>Unnamed: 0</th>\n",
       "      <th>Date</th>\n",
       "      <th>High</th>\n",
       "      <th>Low</th>\n",
       "      <th>Open</th>\n",
       "      <th>Close</th>\n",
       "      <th>Volume</th>\n",
       "      <th>Adj Close</th>\n",
       "      <th>Name</th>\n",
       "    </tr>\n",
       "  </thead>\n",
       "  <tbody>\n",
       "    <tr>\n",
       "      <th>0</th>\n",
       "      <td>0</td>\n",
       "      <td>2010-01-04</td>\n",
       "      <td>7.660714</td>\n",
       "      <td>7.585000</td>\n",
       "      <td>7.622500</td>\n",
       "      <td>7.643214</td>\n",
       "      <td>493729600.0</td>\n",
       "      <td>6.526021</td>\n",
       "      <td>AAPL</td>\n",
       "    </tr>\n",
       "    <tr>\n",
       "      <th>1</th>\n",
       "      <td>1</td>\n",
       "      <td>2010-01-05</td>\n",
       "      <td>7.699643</td>\n",
       "      <td>7.616071</td>\n",
       "      <td>7.664286</td>\n",
       "      <td>7.656429</td>\n",
       "      <td>601904800.0</td>\n",
       "      <td>6.537304</td>\n",
       "      <td>AAPL</td>\n",
       "    </tr>\n",
       "    <tr>\n",
       "      <th>2</th>\n",
       "      <td>2</td>\n",
       "      <td>2010-01-06</td>\n",
       "      <td>7.686786</td>\n",
       "      <td>7.526786</td>\n",
       "      <td>7.656429</td>\n",
       "      <td>7.534643</td>\n",
       "      <td>552160000.0</td>\n",
       "      <td>6.433319</td>\n",
       "      <td>AAPL</td>\n",
       "    </tr>\n",
       "    <tr>\n",
       "      <th>3</th>\n",
       "      <td>3</td>\n",
       "      <td>2010-01-07</td>\n",
       "      <td>7.571429</td>\n",
       "      <td>7.466071</td>\n",
       "      <td>7.562500</td>\n",
       "      <td>7.520714</td>\n",
       "      <td>477131200.0</td>\n",
       "      <td>6.421426</td>\n",
       "      <td>AAPL</td>\n",
       "    </tr>\n",
       "    <tr>\n",
       "      <th>4</th>\n",
       "      <td>4</td>\n",
       "      <td>2010-01-08</td>\n",
       "      <td>7.571429</td>\n",
       "      <td>7.466429</td>\n",
       "      <td>7.510714</td>\n",
       "      <td>7.570714</td>\n",
       "      <td>447610800.0</td>\n",
       "      <td>6.464117</td>\n",
       "      <td>AAPL</td>\n",
       "    </tr>\n",
       "    <tr>\n",
       "      <th>...</th>\n",
       "      <td>...</td>\n",
       "      <td>...</td>\n",
       "      <td>...</td>\n",
       "      <td>...</td>\n",
       "      <td>...</td>\n",
       "      <td>...</td>\n",
       "      <td>...</td>\n",
       "      <td>...</td>\n",
       "      <td>...</td>\n",
       "    </tr>\n",
       "    <tr>\n",
       "      <th>2511</th>\n",
       "      <td>2511</td>\n",
       "      <td>2019-12-24</td>\n",
       "      <td>71.222504</td>\n",
       "      <td>70.730003</td>\n",
       "      <td>71.172501</td>\n",
       "      <td>71.067497</td>\n",
       "      <td>48478800.0</td>\n",
       "      <td>69.738716</td>\n",
       "      <td>AAPL</td>\n",
       "    </tr>\n",
       "    <tr>\n",
       "      <th>2512</th>\n",
       "      <td>2512</td>\n",
       "      <td>2019-12-26</td>\n",
       "      <td>72.495003</td>\n",
       "      <td>71.175003</td>\n",
       "      <td>71.205002</td>\n",
       "      <td>72.477501</td>\n",
       "      <td>93121200.0</td>\n",
       "      <td>71.122368</td>\n",
       "      <td>AAPL</td>\n",
       "    </tr>\n",
       "    <tr>\n",
       "      <th>2513</th>\n",
       "      <td>2513</td>\n",
       "      <td>2019-12-27</td>\n",
       "      <td>73.492500</td>\n",
       "      <td>72.029999</td>\n",
       "      <td>72.779999</td>\n",
       "      <td>72.449997</td>\n",
       "      <td>146266000.0</td>\n",
       "      <td>71.095383</td>\n",
       "      <td>AAPL</td>\n",
       "    </tr>\n",
       "    <tr>\n",
       "      <th>2514</th>\n",
       "      <td>2514</td>\n",
       "      <td>2019-12-30</td>\n",
       "      <td>73.172501</td>\n",
       "      <td>71.305000</td>\n",
       "      <td>72.364998</td>\n",
       "      <td>72.879997</td>\n",
       "      <td>144114400.0</td>\n",
       "      <td>71.517342</td>\n",
       "      <td>AAPL</td>\n",
       "    </tr>\n",
       "    <tr>\n",
       "      <th>2515</th>\n",
       "      <td>2515</td>\n",
       "      <td>2019-12-31</td>\n",
       "      <td>73.419998</td>\n",
       "      <td>72.379997</td>\n",
       "      <td>72.482498</td>\n",
       "      <td>73.412498</td>\n",
       "      <td>100805600.0</td>\n",
       "      <td>72.039879</td>\n",
       "      <td>AAPL</td>\n",
       "    </tr>\n",
       "  </tbody>\n",
       "</table>\n",
       "<p>2516 rows × 9 columns</p>\n",
       "</div>"
      ],
      "text/plain": [
       "      Unnamed: 0        Date       High        Low       Open      Close  \\\n",
       "0              0  2010-01-04   7.660714   7.585000   7.622500   7.643214   \n",
       "1              1  2010-01-05   7.699643   7.616071   7.664286   7.656429   \n",
       "2              2  2010-01-06   7.686786   7.526786   7.656429   7.534643   \n",
       "3              3  2010-01-07   7.571429   7.466071   7.562500   7.520714   \n",
       "4              4  2010-01-08   7.571429   7.466429   7.510714   7.570714   \n",
       "...          ...         ...        ...        ...        ...        ...   \n",
       "2511        2511  2019-12-24  71.222504  70.730003  71.172501  71.067497   \n",
       "2512        2512  2019-12-26  72.495003  71.175003  71.205002  72.477501   \n",
       "2513        2513  2019-12-27  73.492500  72.029999  72.779999  72.449997   \n",
       "2514        2514  2019-12-30  73.172501  71.305000  72.364998  72.879997   \n",
       "2515        2515  2019-12-31  73.419998  72.379997  72.482498  73.412498   \n",
       "\n",
       "           Volume  Adj Close  Name  \n",
       "0     493729600.0   6.526021  AAPL  \n",
       "1     601904800.0   6.537304  AAPL  \n",
       "2     552160000.0   6.433319  AAPL  \n",
       "3     477131200.0   6.421426  AAPL  \n",
       "4     447610800.0   6.464117  AAPL  \n",
       "...           ...        ...   ...  \n",
       "2511   48478800.0  69.738716  AAPL  \n",
       "2512   93121200.0  71.122368  AAPL  \n",
       "2513  146266000.0  71.095383  AAPL  \n",
       "2514  144114400.0  71.517342  AAPL  \n",
       "2515  100805600.0  72.039879  AAPL  \n",
       "\n",
       "[2516 rows x 9 columns]"
      ]
     },
     "execution_count": 32,
     "metadata": {},
     "output_type": "execute_result"
    }
   ],
   "source": [
    "all_stocks"
   ]
  },
  {
   "cell_type": "code",
   "execution_count": 36,
   "id": "84b2539d",
   "metadata": {},
   "outputs": [
    {
     "data": {
      "text/plain": [
       "<bound method NDFrame.head of       Unnamed: 0        Date       High        Low       Open      Close  \\\n",
       "0              0  2010-01-04   7.660714   7.585000   7.622500   7.643214   \n",
       "1              1  2010-01-05   7.699643   7.616071   7.664286   7.656429   \n",
       "2              2  2010-01-06   7.686786   7.526786   7.656429   7.534643   \n",
       "3              3  2010-01-07   7.571429   7.466071   7.562500   7.520714   \n",
       "4              4  2010-01-08   7.571429   7.466429   7.510714   7.570714   \n",
       "...          ...         ...        ...        ...        ...        ...   \n",
       "2511        2511  2019-12-24  71.222504  70.730003  71.172501  71.067497   \n",
       "2512        2512  2019-12-26  72.495003  71.175003  71.205002  72.477501   \n",
       "2513        2513  2019-12-27  73.492500  72.029999  72.779999  72.449997   \n",
       "2514        2514  2019-12-30  73.172501  71.305000  72.364998  72.879997   \n",
       "2515        2515  2019-12-31  73.419998  72.379997  72.482498  73.412498   \n",
       "\n",
       "           Volume  Adj Close  Name  \n",
       "0     493729600.0   6.526021  AAPL  \n",
       "1     601904800.0   6.537304  AAPL  \n",
       "2     552160000.0   6.433319  AAPL  \n",
       "3     477131200.0   6.421426  AAPL  \n",
       "4     447610800.0   6.464117  AAPL  \n",
       "...           ...        ...   ...  \n",
       "2511   48478800.0  69.738716  AAPL  \n",
       "2512   93121200.0  71.122368  AAPL  \n",
       "2513  146266000.0  71.095383  AAPL  \n",
       "2514  144114400.0  71.517342  AAPL  \n",
       "2515  100805600.0  72.039879  AAPL  \n",
       "\n",
       "[2516 rows x 9 columns]>"
      ]
     },
     "execution_count": 36,
     "metadata": {},
     "output_type": "execute_result"
    }
   ],
   "source": [
    "all_stocks.head\n"
   ]
  },
  {
   "cell_type": "code",
   "execution_count": 37,
   "id": "a2c92256",
   "metadata": {},
   "outputs": [
    {
     "data": {
      "text/plain": [
       "<bound method NDFrame.tail of       Unnamed: 0        Date       High        Low       Open      Close  \\\n",
       "0              0  2010-01-04   7.660714   7.585000   7.622500   7.643214   \n",
       "1              1  2010-01-05   7.699643   7.616071   7.664286   7.656429   \n",
       "2              2  2010-01-06   7.686786   7.526786   7.656429   7.534643   \n",
       "3              3  2010-01-07   7.571429   7.466071   7.562500   7.520714   \n",
       "4              4  2010-01-08   7.571429   7.466429   7.510714   7.570714   \n",
       "...          ...         ...        ...        ...        ...        ...   \n",
       "2511        2511  2019-12-24  71.222504  70.730003  71.172501  71.067497   \n",
       "2512        2512  2019-12-26  72.495003  71.175003  71.205002  72.477501   \n",
       "2513        2513  2019-12-27  73.492500  72.029999  72.779999  72.449997   \n",
       "2514        2514  2019-12-30  73.172501  71.305000  72.364998  72.879997   \n",
       "2515        2515  2019-12-31  73.419998  72.379997  72.482498  73.412498   \n",
       "\n",
       "           Volume  Adj Close  Name  \n",
       "0     493729600.0   6.526021  AAPL  \n",
       "1     601904800.0   6.537304  AAPL  \n",
       "2     552160000.0   6.433319  AAPL  \n",
       "3     477131200.0   6.421426  AAPL  \n",
       "4     447610800.0   6.464117  AAPL  \n",
       "...           ...        ...   ...  \n",
       "2511   48478800.0  69.738716  AAPL  \n",
       "2512   93121200.0  71.122368  AAPL  \n",
       "2513  146266000.0  71.095383  AAPL  \n",
       "2514  144114400.0  71.517342  AAPL  \n",
       "2515  100805600.0  72.039879  AAPL  \n",
       "\n",
       "[2516 rows x 9 columns]>"
      ]
     },
     "execution_count": 37,
     "metadata": {},
     "output_type": "execute_result"
    }
   ],
   "source": [
    "all_stocks.tail\n"
   ]
  },
  {
   "cell_type": "code",
   "execution_count": 41,
   "id": "1936ad46",
   "metadata": {},
   "outputs": [
    {
     "data": {
      "text/html": [
       "<div>\n",
       "<style scoped>\n",
       "    .dataframe tbody tr th:only-of-type {\n",
       "        vertical-align: middle;\n",
       "    }\n",
       "\n",
       "    .dataframe tbody tr th {\n",
       "        vertical-align: top;\n",
       "    }\n",
       "\n",
       "    .dataframe thead th {\n",
       "        text-align: right;\n",
       "    }\n",
       "</style>\n",
       "<table border=\"1\" class=\"dataframe\">\n",
       "  <thead>\n",
       "    <tr style=\"text-align: right;\">\n",
       "      <th></th>\n",
       "      <th>Unnamed: 0</th>\n",
       "      <th>Date</th>\n",
       "      <th>High</th>\n",
       "      <th>Low</th>\n",
       "      <th>Open</th>\n",
       "      <th>Close</th>\n",
       "      <th>Volume</th>\n",
       "      <th>Adj Close</th>\n",
       "      <th>Name</th>\n",
       "    </tr>\n",
       "  </thead>\n",
       "  <tbody>\n",
       "    <tr>\n",
       "      <th>1</th>\n",
       "      <td>False</td>\n",
       "      <td>False</td>\n",
       "      <td>False</td>\n",
       "      <td>False</td>\n",
       "      <td>False</td>\n",
       "      <td>False</td>\n",
       "      <td>False</td>\n",
       "      <td>False</td>\n",
       "      <td>False</td>\n",
       "    </tr>\n",
       "    <tr>\n",
       "      <th>2</th>\n",
       "      <td>False</td>\n",
       "      <td>False</td>\n",
       "      <td>False</td>\n",
       "      <td>False</td>\n",
       "      <td>False</td>\n",
       "      <td>False</td>\n",
       "      <td>False</td>\n",
       "      <td>False</td>\n",
       "      <td>False</td>\n",
       "    </tr>\n",
       "    <tr>\n",
       "      <th>3</th>\n",
       "      <td>False</td>\n",
       "      <td>False</td>\n",
       "      <td>False</td>\n",
       "      <td>False</td>\n",
       "      <td>False</td>\n",
       "      <td>False</td>\n",
       "      <td>False</td>\n",
       "      <td>False</td>\n",
       "      <td>False</td>\n",
       "    </tr>\n",
       "    <tr>\n",
       "      <th>4</th>\n",
       "      <td>False</td>\n",
       "      <td>False</td>\n",
       "      <td>False</td>\n",
       "      <td>False</td>\n",
       "      <td>False</td>\n",
       "      <td>False</td>\n",
       "      <td>False</td>\n",
       "      <td>False</td>\n",
       "      <td>False</td>\n",
       "    </tr>\n",
       "    <tr>\n",
       "      <th>5</th>\n",
       "      <td>False</td>\n",
       "      <td>False</td>\n",
       "      <td>False</td>\n",
       "      <td>False</td>\n",
       "      <td>False</td>\n",
       "      <td>False</td>\n",
       "      <td>False</td>\n",
       "      <td>False</td>\n",
       "      <td>False</td>\n",
       "    </tr>\n",
       "    <tr>\n",
       "      <th>...</th>\n",
       "      <td>...</td>\n",
       "      <td>...</td>\n",
       "      <td>...</td>\n",
       "      <td>...</td>\n",
       "      <td>...</td>\n",
       "      <td>...</td>\n",
       "      <td>...</td>\n",
       "      <td>...</td>\n",
       "      <td>...</td>\n",
       "    </tr>\n",
       "    <tr>\n",
       "      <th>2511</th>\n",
       "      <td>False</td>\n",
       "      <td>False</td>\n",
       "      <td>False</td>\n",
       "      <td>False</td>\n",
       "      <td>False</td>\n",
       "      <td>False</td>\n",
       "      <td>False</td>\n",
       "      <td>False</td>\n",
       "      <td>False</td>\n",
       "    </tr>\n",
       "    <tr>\n",
       "      <th>2512</th>\n",
       "      <td>False</td>\n",
       "      <td>False</td>\n",
       "      <td>False</td>\n",
       "      <td>False</td>\n",
       "      <td>False</td>\n",
       "      <td>False</td>\n",
       "      <td>False</td>\n",
       "      <td>False</td>\n",
       "      <td>False</td>\n",
       "    </tr>\n",
       "    <tr>\n",
       "      <th>2513</th>\n",
       "      <td>False</td>\n",
       "      <td>False</td>\n",
       "      <td>False</td>\n",
       "      <td>False</td>\n",
       "      <td>False</td>\n",
       "      <td>False</td>\n",
       "      <td>False</td>\n",
       "      <td>False</td>\n",
       "      <td>False</td>\n",
       "    </tr>\n",
       "    <tr>\n",
       "      <th>2514</th>\n",
       "      <td>False</td>\n",
       "      <td>False</td>\n",
       "      <td>False</td>\n",
       "      <td>False</td>\n",
       "      <td>False</td>\n",
       "      <td>False</td>\n",
       "      <td>False</td>\n",
       "      <td>False</td>\n",
       "      <td>False</td>\n",
       "    </tr>\n",
       "    <tr>\n",
       "      <th>2515</th>\n",
       "      <td>False</td>\n",
       "      <td>False</td>\n",
       "      <td>False</td>\n",
       "      <td>False</td>\n",
       "      <td>False</td>\n",
       "      <td>False</td>\n",
       "      <td>False</td>\n",
       "      <td>False</td>\n",
       "      <td>False</td>\n",
       "    </tr>\n",
       "  </tbody>\n",
       "</table>\n",
       "<p>2515 rows × 9 columns</p>\n",
       "</div>"
      ],
      "text/plain": [
       "      Unnamed: 0   Date   High    Low   Open  Close  Volume  Adj Close   Name\n",
       "1          False  False  False  False  False  False   False      False  False\n",
       "2          False  False  False  False  False  False   False      False  False\n",
       "3          False  False  False  False  False  False   False      False  False\n",
       "4          False  False  False  False  False  False   False      False  False\n",
       "5          False  False  False  False  False  False   False      False  False\n",
       "...          ...    ...    ...    ...    ...    ...     ...        ...    ...\n",
       "2511       False  False  False  False  False  False   False      False  False\n",
       "2512       False  False  False  False  False  False   False      False  False\n",
       "2513       False  False  False  False  False  False   False      False  False\n",
       "2514       False  False  False  False  False  False   False      False  False\n",
       "2515       False  False  False  False  False  False   False      False  False\n",
       "\n",
       "[2515 rows x 9 columns]"
      ]
     },
     "execution_count": 41,
     "metadata": {},
     "output_type": "execute_result"
    }
   ],
   "source": [
    "all_stocks.isnull()"
   ]
  },
  {
   "cell_type": "code",
   "execution_count": 38,
   "id": "6df47a0a",
   "metadata": {},
   "outputs": [
    {
     "data": {
      "text/plain": [
       "<bound method NDFrame.describe of       Unnamed: 0        Date       High        Low       Open      Close  \\\n",
       "0              0  2010-01-04   7.660714   7.585000   7.622500   7.643214   \n",
       "1              1  2010-01-05   7.699643   7.616071   7.664286   7.656429   \n",
       "2              2  2010-01-06   7.686786   7.526786   7.656429   7.534643   \n",
       "3              3  2010-01-07   7.571429   7.466071   7.562500   7.520714   \n",
       "4              4  2010-01-08   7.571429   7.466429   7.510714   7.570714   \n",
       "...          ...         ...        ...        ...        ...        ...   \n",
       "2511        2511  2019-12-24  71.222504  70.730003  71.172501  71.067497   \n",
       "2512        2512  2019-12-26  72.495003  71.175003  71.205002  72.477501   \n",
       "2513        2513  2019-12-27  73.492500  72.029999  72.779999  72.449997   \n",
       "2514        2514  2019-12-30  73.172501  71.305000  72.364998  72.879997   \n",
       "2515        2515  2019-12-31  73.419998  72.379997  72.482498  73.412498   \n",
       "\n",
       "           Volume  Adj Close  Name  \n",
       "0     493729600.0   6.526021  AAPL  \n",
       "1     601904800.0   6.537304  AAPL  \n",
       "2     552160000.0   6.433319  AAPL  \n",
       "3     477131200.0   6.421426  AAPL  \n",
       "4     447610800.0   6.464117  AAPL  \n",
       "...           ...        ...   ...  \n",
       "2511   48478800.0  69.738716  AAPL  \n",
       "2512   93121200.0  71.122368  AAPL  \n",
       "2513  146266000.0  71.095383  AAPL  \n",
       "2514  144114400.0  71.517342  AAPL  \n",
       "2515  100805600.0  72.039879  AAPL  \n",
       "\n",
       "[2516 rows x 9 columns]>"
      ]
     },
     "execution_count": 38,
     "metadata": {},
     "output_type": "execute_result"
    }
   ],
   "source": [
    "all_stocks.describe"
   ]
  },
  {
   "cell_type": "code",
   "execution_count": 43,
   "id": "0212160b",
   "metadata": {},
   "outputs": [
    {
     "data": {
      "text/html": [
       "<div>\n",
       "<style scoped>\n",
       "    .dataframe tbody tr th:only-of-type {\n",
       "        vertical-align: middle;\n",
       "    }\n",
       "\n",
       "    .dataframe tbody tr th {\n",
       "        vertical-align: top;\n",
       "    }\n",
       "\n",
       "    .dataframe thead th {\n",
       "        text-align: right;\n",
       "    }\n",
       "</style>\n",
       "<table border=\"1\" class=\"dataframe\">\n",
       "  <thead>\n",
       "    <tr style=\"text-align: right;\">\n",
       "      <th></th>\n",
       "      <th>Unnamed: 0</th>\n",
       "      <th>Date</th>\n",
       "      <th>High</th>\n",
       "      <th>Low</th>\n",
       "      <th>Open</th>\n",
       "      <th>Close</th>\n",
       "      <th>Volume</th>\n",
       "      <th>Adj Close</th>\n",
       "      <th>Name</th>\n",
       "    </tr>\n",
       "  </thead>\n",
       "  <tbody>\n",
       "    <tr>\n",
       "      <th>1</th>\n",
       "      <td>False</td>\n",
       "      <td>False</td>\n",
       "      <td>False</td>\n",
       "      <td>False</td>\n",
       "      <td>False</td>\n",
       "      <td>False</td>\n",
       "      <td>False</td>\n",
       "      <td>False</td>\n",
       "      <td>False</td>\n",
       "    </tr>\n",
       "    <tr>\n",
       "      <th>2</th>\n",
       "      <td>False</td>\n",
       "      <td>False</td>\n",
       "      <td>False</td>\n",
       "      <td>False</td>\n",
       "      <td>False</td>\n",
       "      <td>False</td>\n",
       "      <td>False</td>\n",
       "      <td>False</td>\n",
       "      <td>False</td>\n",
       "    </tr>\n",
       "    <tr>\n",
       "      <th>3</th>\n",
       "      <td>False</td>\n",
       "      <td>False</td>\n",
       "      <td>False</td>\n",
       "      <td>False</td>\n",
       "      <td>False</td>\n",
       "      <td>False</td>\n",
       "      <td>False</td>\n",
       "      <td>False</td>\n",
       "      <td>False</td>\n",
       "    </tr>\n",
       "    <tr>\n",
       "      <th>4</th>\n",
       "      <td>False</td>\n",
       "      <td>False</td>\n",
       "      <td>False</td>\n",
       "      <td>False</td>\n",
       "      <td>False</td>\n",
       "      <td>False</td>\n",
       "      <td>False</td>\n",
       "      <td>False</td>\n",
       "      <td>False</td>\n",
       "    </tr>\n",
       "    <tr>\n",
       "      <th>5</th>\n",
       "      <td>False</td>\n",
       "      <td>False</td>\n",
       "      <td>False</td>\n",
       "      <td>False</td>\n",
       "      <td>False</td>\n",
       "      <td>False</td>\n",
       "      <td>False</td>\n",
       "      <td>False</td>\n",
       "      <td>False</td>\n",
       "    </tr>\n",
       "    <tr>\n",
       "      <th>...</th>\n",
       "      <td>...</td>\n",
       "      <td>...</td>\n",
       "      <td>...</td>\n",
       "      <td>...</td>\n",
       "      <td>...</td>\n",
       "      <td>...</td>\n",
       "      <td>...</td>\n",
       "      <td>...</td>\n",
       "      <td>...</td>\n",
       "    </tr>\n",
       "    <tr>\n",
       "      <th>2511</th>\n",
       "      <td>False</td>\n",
       "      <td>False</td>\n",
       "      <td>False</td>\n",
       "      <td>False</td>\n",
       "      <td>False</td>\n",
       "      <td>False</td>\n",
       "      <td>False</td>\n",
       "      <td>False</td>\n",
       "      <td>False</td>\n",
       "    </tr>\n",
       "    <tr>\n",
       "      <th>2512</th>\n",
       "      <td>False</td>\n",
       "      <td>False</td>\n",
       "      <td>False</td>\n",
       "      <td>False</td>\n",
       "      <td>False</td>\n",
       "      <td>False</td>\n",
       "      <td>False</td>\n",
       "      <td>False</td>\n",
       "      <td>False</td>\n",
       "    </tr>\n",
       "    <tr>\n",
       "      <th>2513</th>\n",
       "      <td>False</td>\n",
       "      <td>False</td>\n",
       "      <td>False</td>\n",
       "      <td>False</td>\n",
       "      <td>False</td>\n",
       "      <td>False</td>\n",
       "      <td>False</td>\n",
       "      <td>False</td>\n",
       "      <td>False</td>\n",
       "    </tr>\n",
       "    <tr>\n",
       "      <th>2514</th>\n",
       "      <td>False</td>\n",
       "      <td>False</td>\n",
       "      <td>False</td>\n",
       "      <td>False</td>\n",
       "      <td>False</td>\n",
       "      <td>False</td>\n",
       "      <td>False</td>\n",
       "      <td>False</td>\n",
       "      <td>False</td>\n",
       "    </tr>\n",
       "    <tr>\n",
       "      <th>2515</th>\n",
       "      <td>False</td>\n",
       "      <td>False</td>\n",
       "      <td>False</td>\n",
       "      <td>False</td>\n",
       "      <td>False</td>\n",
       "      <td>False</td>\n",
       "      <td>False</td>\n",
       "      <td>False</td>\n",
       "      <td>False</td>\n",
       "    </tr>\n",
       "  </tbody>\n",
       "</table>\n",
       "<p>2515 rows × 9 columns</p>\n",
       "</div>"
      ],
      "text/plain": [
       "      Unnamed: 0   Date   High    Low   Open  Close  Volume  Adj Close   Name\n",
       "1          False  False  False  False  False  False   False      False  False\n",
       "2          False  False  False  False  False  False   False      False  False\n",
       "3          False  False  False  False  False  False   False      False  False\n",
       "4          False  False  False  False  False  False   False      False  False\n",
       "5          False  False  False  False  False  False   False      False  False\n",
       "...          ...    ...    ...    ...    ...    ...     ...        ...    ...\n",
       "2511       False  False  False  False  False  False   False      False  False\n",
       "2512       False  False  False  False  False  False   False      False  False\n",
       "2513       False  False  False  False  False  False   False      False  False\n",
       "2514       False  False  False  False  False  False   False      False  False\n",
       "2515       False  False  False  False  False  False   False      False  False\n",
       "\n",
       "[2515 rows x 9 columns]"
      ]
     },
     "execution_count": 43,
     "metadata": {},
     "output_type": "execute_result"
    }
   ],
   "source": [
    "all_stocks.isnull()"
   ]
  },
  {
   "cell_type": "code",
   "execution_count": 48,
   "id": "8207d402",
   "metadata": {},
   "outputs": [],
   "source": [
    "import matplotlib.pyplot as plt\n"
   ]
  },
  {
   "cell_type": "code",
   "execution_count": 49,
   "id": "b7062110",
   "metadata": {},
   "outputs": [
    {
     "data": {
      "text/plain": [
       "<bound method NDFrame.head of       Unnamed: 0        Date       High        Low       Open      Close  \\\n",
       "1              1  2010-01-05   7.699643   7.616071   7.664286   7.656429   \n",
       "2              2  2010-01-06   7.686786   7.526786   7.656429   7.534643   \n",
       "3              3  2010-01-07   7.571429   7.466071   7.562500   7.520714   \n",
       "4              4  2010-01-08   7.571429   7.466429   7.510714   7.570714   \n",
       "5              5  2010-01-11   7.607143   7.444643   7.600000   7.503929   \n",
       "...          ...         ...        ...        ...        ...        ...   \n",
       "2511        2511  2019-12-24  71.222504  70.730003  71.172501  71.067497   \n",
       "2512        2512  2019-12-26  72.495003  71.175003  71.205002  72.477501   \n",
       "2513        2513  2019-12-27  73.492500  72.029999  72.779999  72.449997   \n",
       "2514        2514  2019-12-30  73.172501  71.305000  72.364998  72.879997   \n",
       "2515        2515  2019-12-31  73.419998  72.379997  72.482498  73.412498   \n",
       "\n",
       "           Volume  Adj Close  Name  \n",
       "1     601904800.0   6.537304  AAPL  \n",
       "2     552160000.0   6.433319  AAPL  \n",
       "3     477131200.0   6.421426  AAPL  \n",
       "4     447610800.0   6.464117  AAPL  \n",
       "5     462229600.0   6.407093  AAPL  \n",
       "...           ...        ...   ...  \n",
       "2511   48478800.0  69.738716  AAPL  \n",
       "2512   93121200.0  71.122368  AAPL  \n",
       "2513  146266000.0  71.095383  AAPL  \n",
       "2514  144114400.0  71.517342  AAPL  \n",
       "2515  100805600.0  72.039879  AAPL  \n",
       "\n",
       "[2515 rows x 9 columns]>"
      ]
     },
     "execution_count": 49,
     "metadata": {},
     "output_type": "execute_result"
    }
   ],
   "source": [
    "all_stocks.head"
   ]
  },
  {
   "cell_type": "code",
   "execution_count": 56,
   "id": "7ee73846",
   "metadata": {},
   "outputs": [
    {
     "data": {
      "text/plain": [
       "<AxesSubplot:>"
      ]
     },
     "execution_count": 56,
     "metadata": {},
     "output_type": "execute_result"
    },
    {
     "data": {
      "image/png": "[encoded data removed]",
      "text/plain": [
       "<Figure size 1440x576 with 1 Axes>"
      ]
     },
     "metadata": {
      "needs_background": "light"
     },
     "output_type": "display_data"
    }
   ],
   "source": [
    "all_stocks['Change'] = all_stocks.High.div(all_stocks.High.shift())\n",
    "all_stocks['Change'].plot(figsize=(20,8))"
   ]
  },
  {
   "cell_type": "code",
   "execution_count": null,
   "id": "184ce110",
   "metadata": {},
   "outputs": [],
   "source": []
  },
  {
   "cell_type": "code",
   "execution_count": null,
   "id": "16a80721",
   "metadata": {},
   "outputs": [],
   "source": []
  },
  {
   "cell_type": "code",
   "execution_count": null,
   "id": "2e7a1e6e",
   "metadata": {},
   "outputs": [],
   "source": []
  },
  {
   "cell_type": "code",
   "execution_count": null,
   "id": "2bef9ef1",
   "metadata": {},
   "outputs": [],
   "source": []
  }
 ],
 "metadata": {
  "kernelspec": {
   "display_name": "Python 3 (ipykernel)",
   "language": "python",
   "name": "python3"
  },
  "language_info": {
   "codemirror_mode": {
    "name": "ipython",
    "version": 3
   },
   "file_extension": ".py",
   "mimetype": "text/x-python",
   "name": "python",
   "nbconvert_exporter": "python",
   "pygments_lexer": "ipython3",
   "version": "3.9.7"
  }
 },
 "nbformat": 4,
 "nbformat_minor": 5
}
